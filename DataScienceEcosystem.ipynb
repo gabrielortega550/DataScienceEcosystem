{
 "cells": [
  {
   "cell_type": "markdown",
   "id": "6a76ca3e-71f1-489e-8375-2590934b3d2e",
   "metadata": {},
   "source": [
    "# Data Science Tools and Ecosystem"
   ]
  },
  {
   "cell_type": "markdown",
   "id": "51eb705f-a6d8-4cfd-b666-773011136603",
   "metadata": {},
   "source": [
    "This notebook serves as a comprehensive guide to data science, exploring various concepts, techniques, and tools used in the field, and providing hands-on examples and explanations to help you navigate the world of data analysis and machine learning."
   ]
  },
  {
   "cell_type": "markdown",
   "id": "450c7017-1dc6-4271-9db0-e03fe5e876ee",
   "metadata": {},
   "source": [
    "**Objectives:**\n",
    "\n",
    "- List popular languages for Data Science.\n",
    "- Identify commonly used libraries in Data Science.\n",
    "- Explore development environment tools used in Data Science.\n",
    "- Convert minutes to hours using Python.\n",
    "- Understand key concepts and techniques in Data Science.\n"
   ]
  },
  {
   "cell_type": "markdown",
   "id": "136bb668-b8af-42d7-980e-73299cebfd86",
   "metadata": {},
   "source": [
    "Some of the popular languages that Data Scientists use are:\n",
    "\n",
    "* Python: Python is one of the most widely used languages in data science. It offers a vast ecosystem of libraries and frameworks such as NumPy, Pandas, and Scikit-learn, which provide powerful tools for data manipulation, analysis, and machine learning.\n",
    "\n",
    "* R: R is a programming language specifically designed for statistical computing and graphics. It has a rich set of packages that make it convenient for data scientists to perform various statistical analyses, data visualization, and machine learning tasks.\n",
    "\n",
    "* SQL: Structured Query Language (SQL) is essential for data scientists working with relational databases. SQL allows them to retrieve and manipulate data stored in databases efficiently. It is commonly used for data extraction, transformation, and loading (ETL) processes and can be integrated with other languages like Python or R for advanced data analysis.\n",
    "\n",
    "* Julia: Julia is a relatively new language that combines the flexibility of dynamic scripting languages like Python and the performance of compiled languages like C++. It is gaining popularity among data scientists due to its high-speed computations and built-in support for distributed computing.\n",
    "\n",
    "* Scala: Scala is a general-purpose programming language that runs on the Java Virtual Machine (JVM). It has gained traction in the data science community, particularly for big data processing with Apache Spark. Scala's functional programming capabilities and compatibility with Java libraries make it a versatile language for data engineering and analysis."
   ]
  },
  {
   "cell_type": "markdown",
   "id": "adcd0006-9b5b-41fb-a533-f6fb4d100907",
   "metadata": {},
   "source": [
    "Some of the commonly used libraries used by Data Scientists include:\n",
    "\n",
    "* NumPy\n",
    "* Pandas\n",
    "* Matplotlib\n",
    "* Seaborn\n",
    "* Scikit-learn\n",
    "* TensorFlow\n",
    "* Keras\n",
    "* PyTorch\n",
    "* SciPy\n",
    "* Statsmodels\n",
    "* NLTK\n",
    "* Gensim\n",
    "* NetworkX\n",
    "* XGBoost\n",
    "* LightGBM"
   ]
  },
  {
   "cell_type": "markdown",
   "id": "ba160e94-c73d-49f6-8503-1021a5995b89",
   "metadata": {},
   "source": [
    "| Data Science Tools |\n",
    "|-------------------|\n",
    "| Jupyter Notebook  |\n",
    "| RStudio           |\n",
    "| Visual Studio Code|"
   ]
  },
  {
   "cell_type": "markdown",
   "id": "db925800-9a46-4fec-afc5-b34efd1f0946",
   "metadata": {},
   "source": [
    "### Below are a few examples of evaluating arithmetic expressions in Python"
   ]
  },
  {
   "cell_type": "code",
   "execution_count": 1,
   "id": "c7dd951f-0956-42db-a353-a7b47d2381c9",
   "metadata": {
    "tags": []
   },
   "outputs": [
    {
     "data": {
      "text/plain": [
       "17"
      ]
     },
     "execution_count": 1,
     "metadata": {},
     "output_type": "execute_result"
    }
   ],
   "source": [
    "(3*4)+5 #This a simple arithmetic expression to mutiply then add integers"
   ]
  },
  {
   "cell_type": "code",
   "execution_count": 2,
   "id": "71939954-f54c-443e-9993-afdf1580f69c",
   "metadata": {
    "tags": []
   },
   "outputs": [
    {
     "name": "stdout",
     "output_type": "stream",
     "text": [
      "200 minutes is equal to 3.3333333333333335 hours.\n"
     ]
    }
   ],
   "source": [
    "minutes = 200\n",
    "hours = minutes / 60 #This will convert 200 minutes to hours by diving by 60\n",
    "\n",
    "print(f\"{minutes} minutes is equal to {hours} hours.\")"
   ]
  },
  {
   "cell_type": "markdown",
   "id": "5524d36d-e7a6-453a-b790-cd53b504566d",
   "metadata": {},
   "source": [
    "## Author: Gabriel Ortega"
   ]
  },
  {
   "cell_type": "code",
   "execution_count": null,
   "id": "433c9bca-e0be-4f15-8224-0fe0f181d0cc",
   "metadata": {},
   "outputs": [],
   "source": []
  }
 ],
 "metadata": {
  "kernelspec": {
   "display_name": "Python",
   "language": "python",
   "name": "conda-env-python-py"
  },
  "language_info": {
   "codemirror_mode": {
    "name": "ipython",
    "version": 3
   },
   "file_extension": ".py",
   "mimetype": "text/x-python",
   "name": "python",
   "nbconvert_exporter": "python",
   "pygments_lexer": "ipython3",
   "version": "3.7.12"
  }
 },
 "nbformat": 4,
 "nbformat_minor": 5
}
